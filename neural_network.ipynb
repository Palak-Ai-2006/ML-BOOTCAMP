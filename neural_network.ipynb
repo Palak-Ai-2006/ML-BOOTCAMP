{
  "nbformat": 4,
  "nbformat_minor": 0,
  "metadata": {
    "colab": {
      "provenance": [],
      "authorship_tag": "ABX9TyNUXxX3gnKhVCB8/vzUX4+G",
      "include_colab_link": true
    },
    "kernelspec": {
      "name": "python3",
      "display_name": "Python 3"
    },
    "language_info": {
      "name": "python"
    }
  },
  "cells": [
    {
      "cell_type": "markdown",
      "metadata": {
        "id": "view-in-github",
        "colab_type": "text"
      },
      "source": [
        "<a href=\"https://colab.research.google.com/github/Palak-Ai-2006/ML-BOOTCAMP/blob/main/neural_network.ipynb\" target=\"_parent\"><img src=\"https://colab.research.google.com/assets/colab-badge.svg\" alt=\"Open In Colab\"/></a>"
      ]
    },
    {
      "cell_type": "code",
      "execution_count": null,
      "metadata": {
        "colab": {
          "base_uri": "https://localhost:8080/"
        },
        "id": "HBpksfliCkP2",
        "outputId": "c245ed8f-af2f-4283-e67a-f4d5086f4d2e"
      },
      "outputs": [
        {
          "output_type": "stream",
          "name": "stdout",
          "text": [
            "h\n"
          ]
        }
      ],
      "source": [
        "print(\"h\")"
      ]
    },
    {
      "cell_type": "code",
      "source": [
        "from torchvision import datasets\n",
        "from torchvision.transforms import ToTensor\n"
      ],
      "metadata": {
        "id": "MMbX5-eHDIWl"
      },
      "execution_count": 2,
      "outputs": []
    },
    {
      "cell_type": "code",
      "source": [
        "train_data= datasets.MNIST(\n",
        "    root=\"data\",\n",
        "    train=True,\n",
        "    download=True,\n",
        "    transform=ToTensor()\n",
        ")\n",
        "test_data= datasets.MNIST(\n",
        "    root=\"data\",\n",
        "    train=False,\n",
        "    download=True,\n",
        "    transform=ToTensor()\n",
        ")"
      ],
      "metadata": {
        "colab": {
          "base_uri": "https://localhost:8080/"
        },
        "collapsed": true,
        "id": "9b36jxdHFNtF",
        "outputId": "8169c092-f346-4ca8-967d-fee243cb314c"
      },
      "execution_count": 3,
      "outputs": [
        {
          "output_type": "stream",
          "name": "stdout",
          "text": [
            "Downloading http://yann.lecun.com/exdb/mnist/train-images-idx3-ubyte.gz\n",
            "Failed to download (trying next):\n",
            "<urlopen error [SSL: CERTIFICATE_VERIFY_FAILED] certificate verify failed: certificate has expired (_ssl.c:1007)>\n",
            "\n",
            "Downloading https://ossci-datasets.s3.amazonaws.com/mnist/train-images-idx3-ubyte.gz\n",
            "Downloading https://ossci-datasets.s3.amazonaws.com/mnist/train-images-idx3-ubyte.gz to data/MNIST/raw/train-images-idx3-ubyte.gz\n"
          ]
        },
        {
          "output_type": "stream",
          "name": "stderr",
          "text": [
            "100%|██████████| 9.91M/9.91M [00:00<00:00, 34.5MB/s]\n"
          ]
        },
        {
          "output_type": "stream",
          "name": "stdout",
          "text": [
            "Extracting data/MNIST/raw/train-images-idx3-ubyte.gz to data/MNIST/raw\n",
            "\n",
            "Downloading http://yann.lecun.com/exdb/mnist/train-labels-idx1-ubyte.gz\n",
            "Failed to download (trying next):\n",
            "<urlopen error [SSL: CERTIFICATE_VERIFY_FAILED] certificate verify failed: certificate has expired (_ssl.c:1007)>\n",
            "\n",
            "Downloading https://ossci-datasets.s3.amazonaws.com/mnist/train-labels-idx1-ubyte.gz\n",
            "Downloading https://ossci-datasets.s3.amazonaws.com/mnist/train-labels-idx1-ubyte.gz to data/MNIST/raw/train-labels-idx1-ubyte.gz\n"
          ]
        },
        {
          "output_type": "stream",
          "name": "stderr",
          "text": [
            "100%|██████████| 28.9k/28.9k [00:00<00:00, 1.16MB/s]"
          ]
        },
        {
          "output_type": "stream",
          "name": "stdout",
          "text": [
            "Extracting data/MNIST/raw/train-labels-idx1-ubyte.gz to data/MNIST/raw\n",
            "\n",
            "Downloading http://yann.lecun.com/exdb/mnist/t10k-images-idx3-ubyte.gz\n"
          ]
        },
        {
          "output_type": "stream",
          "name": "stderr",
          "text": [
            "\n"
          ]
        },
        {
          "output_type": "stream",
          "name": "stdout",
          "text": [
            "Failed to download (trying next):\n",
            "<urlopen error [SSL: CERTIFICATE_VERIFY_FAILED] certificate verify failed: certificate has expired (_ssl.c:1007)>\n",
            "\n",
            "Downloading https://ossci-datasets.s3.amazonaws.com/mnist/t10k-images-idx3-ubyte.gz\n",
            "Downloading https://ossci-datasets.s3.amazonaws.com/mnist/t10k-images-idx3-ubyte.gz to data/MNIST/raw/t10k-images-idx3-ubyte.gz\n"
          ]
        },
        {
          "output_type": "stream",
          "name": "stderr",
          "text": [
            "100%|██████████| 1.65M/1.65M [00:00<00:00, 10.5MB/s]\n"
          ]
        },
        {
          "output_type": "stream",
          "name": "stdout",
          "text": [
            "Extracting data/MNIST/raw/t10k-images-idx3-ubyte.gz to data/MNIST/raw\n",
            "\n",
            "Downloading http://yann.lecun.com/exdb/mnist/t10k-labels-idx1-ubyte.gz\n",
            "Failed to download (trying next):\n",
            "<urlopen error [SSL: CERTIFICATE_VERIFY_FAILED] certificate verify failed: certificate has expired (_ssl.c:1007)>\n",
            "\n",
            "Downloading https://ossci-datasets.s3.amazonaws.com/mnist/t10k-labels-idx1-ubyte.gz\n",
            "Downloading https://ossci-datasets.s3.amazonaws.com/mnist/t10k-labels-idx1-ubyte.gz to data/MNIST/raw/t10k-labels-idx1-ubyte.gz\n"
          ]
        },
        {
          "output_type": "stream",
          "name": "stderr",
          "text": [
            "100%|██████████| 4.54k/4.54k [00:00<00:00, 3.32MB/s]\n"
          ]
        },
        {
          "output_type": "stream",
          "name": "stdout",
          "text": [
            "Extracting data/MNIST/raw/t10k-labels-idx1-ubyte.gz to data/MNIST/raw\n",
            "\n"
          ]
        }
      ]
    },
    {
      "cell_type": "code",
      "source": [
        "train_data"
      ],
      "metadata": {
        "collapsed": true,
        "colab": {
          "base_uri": "https://localhost:8080/"
        },
        "id": "FTb25rjdFqQ8",
        "outputId": "00036fd6-8f3b-42e1-cede-c57268133a6d"
      },
      "execution_count": 4,
      "outputs": [
        {
          "output_type": "execute_result",
          "data": {
            "text/plain": [
              "Dataset MNIST\n",
              "    Number of datapoints: 60000\n",
              "    Root location: data\n",
              "    Split: Train\n",
              "    StandardTransform\n",
              "Transform: ToTensor()"
            ]
          },
          "metadata": {},
          "execution_count": 4
        }
      ]
    },
    {
      "cell_type": "code",
      "source": [
        "test_data"
      ],
      "metadata": {
        "colab": {
          "base_uri": "https://localhost:8080/"
        },
        "collapsed": true,
        "id": "zGtH5eSCFudD",
        "outputId": "86870da7-6e12-4f79-a72c-f7284f583424"
      },
      "execution_count": 5,
      "outputs": [
        {
          "output_type": "execute_result",
          "data": {
            "text/plain": [
              "Dataset MNIST\n",
              "    Number of datapoints: 10000\n",
              "    Root location: data\n",
              "    Split: Test\n",
              "    StandardTransform\n",
              "Transform: ToTensor()"
            ]
          },
          "metadata": {},
          "execution_count": 5
        }
      ]
    },
    {
      "cell_type": "code",
      "source": [
        "train_data.targets.size()"
      ],
      "metadata": {
        "colab": {
          "base_uri": "https://localhost:8080/"
        },
        "id": "XZJUZDHRGEMk",
        "outputId": "d9752b5d-ad1c-4607-d056-96d6414cec6d"
      },
      "execution_count": 6,
      "outputs": [
        {
          "output_type": "execute_result",
          "data": {
            "text/plain": [
              "torch.Size([60000])"
            ]
          },
          "metadata": {},
          "execution_count": 6
        }
      ]
    },
    {
      "cell_type": "code",
      "source": [
        "from torch.utils.data import DataLoader\n",
        "loaders={\n",
        "    'train':DataLoader(train_data,\n",
        "                       batch_size=100,\n",
        "                       shuffle=True,\n",
        "                       num_workers=1),\n",
        "    'test':DataLoader(test_data,\n",
        "                      batch_size=100,\n",
        "                      shuffle=True,\n",
        "                      num_workers=1),\n",
        "}"
      ],
      "metadata": {
        "id": "8ZNqk705GKIX"
      },
      "execution_count": 7,
      "outputs": []
    },
    {
      "cell_type": "code",
      "source": [
        "loaders"
      ],
      "metadata": {
        "collapsed": true,
        "colab": {
          "base_uri": "https://localhost:8080/"
        },
        "id": "aHBqO8UbGpw9",
        "outputId": "ec808dfc-d004-4fce-c3fa-17de7c926613"
      },
      "execution_count": 8,
      "outputs": [
        {
          "output_type": "execute_result",
          "data": {
            "text/plain": [
              "{'train': <torch.utils.data.dataloader.DataLoader at 0x7b7263350b50>,\n",
              " 'test': <torch.utils.data.dataloader.DataLoader at 0x7b72633501f0>}"
            ]
          },
          "metadata": {},
          "execution_count": 8
        }
      ]
    },
    {
      "cell_type": "code",
      "source": [
        "import torch.nn as nn\n",
        "import torch.nn.functional as F\n",
        "import torch.optim as optim\n",
        "\n",
        "class CNN(nn.Module):\n",
        "    def __init__(self):\n",
        "        super(CNN,self).__init__()\n",
        "\n",
        "        self.conv1=nn.Conv2d(in_channels=1,\n",
        "                             out_channels=16,\n",
        "                             kernel_size=5,)\n",
        "        self.conv2=nn.Conv2d(in_channels=10,\n",
        "                             out_channels=20,\n",
        "                             kernel_size=5,\n",
        "                             )\n",
        "        self.conv2_drop=nn.Dropout2d()\n",
        "        self.fc1=nn.Linear(320,50)\n",
        "        self.fc2=nn.Linear(50,10)\n",
        "    def forward(self,x):\n",
        "        x=F.relu(F.max_pool2d(self.conv1(x),2))\n",
        "        x=F.relu(F.max_pool2d(self.conv2_drop(self.conv2(x)),2))\n",
        "        x=x.view(-1,320)\n",
        "        x=F.relu(self.fc1(x))\n",
        "        x=F.dropout(x,training=self.training)\n",
        "        x=self.fc2(x)\n",
        "\n",
        "        return F.log_softmax(x)"
      ],
      "metadata": {
        "id": "-h8Dzz2WGu18"
      },
      "execution_count": 9,
      "outputs": []
    },
    {
      "cell_type": "code",
      "source": [
        "import torch.nn as nn\n",
        "import torch.nn.functional as F\n",
        "import torch.optim as optim\n",
        "\n",
        "class CNN(nn.Module):\n",
        "    def __init__(self):\n",
        "        super(CNN,self).__init__()\n",
        "\n",
        "        self.conv1=nn.Conv2d(in_channels=1,\n",
        "                             out_channels=16,\n",
        "                             kernel_size=5,)\n",
        "        # Change in_channels to 16 to match conv1 output\n",
        "        self.conv2=nn.Conv2d(in_channels=16,\n",
        "                             out_channels=20,\n",
        "                             kernel_size=5,\n",
        "                             )\n",
        "        self.conv2_drop=nn.Dropout2d()\n",
        "        self.fc1=nn.Linear(320,50)\n",
        "        self.fc2=nn.Linear(50,10)\n",
        "    def forward(self,x):\n",
        "        x=F.relu(F.max_pool2d(self.conv1(x),2))\n",
        "        x=F.relu(F.max_pool2d(self.conv2_drop(self.conv2(x)),2))\n",
        "        x=x.view(-1,320)\n",
        "        x=F.relu(self.fc1(x))\n",
        "        x=F.dropout(x,training=self.training)\n",
        "        x=self.fc2(x)\n",
        "\n",
        "        return F.log_softmax(x)"
      ],
      "metadata": {
        "id": "hYdEzysRRU3N"
      },
      "execution_count": 19,
      "outputs": []
    },
    {
      "cell_type": "code",
      "source": [
        "import torch\n",
        "device=torch.device(\"cuda\" if torch.cuda.is_available() else \"cpu\")\n",
        "\n",
        "model=CNN().to(device)\n",
        "optimizer=optim.Adam(model.parameters(),lr=0.001)\n",
        "loss_fn=nn.CrossEntropyLoss()\n",
        "\n",
        "def train(epoch):\n",
        "    model.train()\n",
        "    for batch_idx,(data,target) in enumerate(loaders['train']):\n",
        "        data,target=data.to(device),target.to(device)\n",
        "        optimizer.zero_grad()\n",
        "        output=model(data)\n",
        "        loss=loss_fn(output,target)\n",
        "        loss.backward()\n",
        "import torch\n",
        "device=torch.device(\"cuda\" if torch.cuda.is_available() else \"cpu\")\n",
        "\n",
        "model=CNN().to(device)\n",
        "optimizer=optim.Adam(model.parameters(),lr=0.001)\n",
        "loss_fn=nn.CrossEntropyLoss()\n",
        "\n",
        "def train(epoch):\n",
        "    model.train()\n",
        "    for batch_idx,(data,target) in enumerate(loaders['train']):\n",
        "        data,target=data.to(device),target.to(device)\n",
        "        optimizer.zero_grad()\n",
        "        output=model(data)\n",
        "        loss=loss_fn(output,target)\n",
        "        loss.backward()\n",
        "        optimizer.step()\n",
        "        if(batch_idx+1)%20==0:\n",
        "            print(f'Train Epoch: {epoch} [{batch_idx * len(data)}/{len(loaders[\"train\"].dataset)} ({100. *batch_idx / len(loaders[\"train\"]):.0f}%)]\\t{loss.item():.6f}')\n",
        ""
      ],
      "metadata": {
        "id": "ka9Juh_rHGPw"
      },
      "execution_count": 20,
      "outputs": []
    },
    {
      "cell_type": "code",
      "source": [
        "def test():\n",
        "    model.eval()\n",
        "\n",
        "    test_loss=0\n",
        "    correct=0\n",
        "\n",
        "    with torch.no_grad():\n",
        "        for data,target in loaders['test']:\n",
        "            data,target=data.to(device),target.to(device)\n",
        "            output=model(data)\n",
        "            test_loss+=loss_fn(output,target).item()\n",
        "            pred=output.argmax(dim=1,keepdim=True)\n",
        "            correct+=pred.eq(target.view_as(pred)).sum().item()\n",
        "    test_loss/=len(loaders['test'].dataset)\n",
        "    print(f'\\nTest set: Average loss: {test_loss:.4f}, Accuracy: {correct}/{len(loaders[\"test\"].dataset)} ({100. * correct / len(loaders[\"test\"].dataset):.0f}%)\\n')\n",
        ""
      ],
      "metadata": {
        "id": "Iv0RpPiSO5Pi"
      },
      "execution_count": 21,
      "outputs": []
    },
    {
      "cell_type": "code",
      "source": [
        "for epoch in range(1,10):\n",
        "    train(epoch)\n",
        "    test()"
      ],
      "metadata": {
        "colab": {
          "base_uri": "https://localhost:8080/"
        },
        "collapsed": true,
        "id": "_CJyyWynQn6n",
        "outputId": "01c777c8-8777-4194-ae46-7b16a802f2b9"
      },
      "execution_count": 22,
      "outputs": [
        {
          "output_type": "stream",
          "name": "stderr",
          "text": [
            "<ipython-input-19-0ebfdabe8b05>:28: UserWarning: Implicit dimension choice for log_softmax has been deprecated. Change the call to include dim=X as an argument.\n",
            "  return F.log_softmax(x)\n"
          ]
        },
        {
          "output_type": "stream",
          "name": "stdout",
          "text": [
            "Train Epoch: 1 [1900/60000 (3%)]\t2.252202\n",
            "Train Epoch: 1 [3900/60000 (6%)]\t1.894777\n",
            "Train Epoch: 1 [5900/60000 (10%)]\t1.262901\n",
            "Train Epoch: 1 [7900/60000 (13%)]\t1.014854\n",
            "Train Epoch: 1 [9900/60000 (16%)]\t0.855308\n",
            "Train Epoch: 1 [11900/60000 (20%)]\t0.748414\n",
            "Train Epoch: 1 [13900/60000 (23%)]\t0.627456\n",
            "Train Epoch: 1 [15900/60000 (26%)]\t0.750868\n",
            "Train Epoch: 1 [17900/60000 (30%)]\t0.527140\n",
            "Train Epoch: 1 [19900/60000 (33%)]\t0.648979\n",
            "Train Epoch: 1 [21900/60000 (36%)]\t0.517239\n",
            "Train Epoch: 1 [23900/60000 (40%)]\t0.416863\n",
            "Train Epoch: 1 [25900/60000 (43%)]\t0.529588\n",
            "Train Epoch: 1 [27900/60000 (46%)]\t0.460656\n",
            "Train Epoch: 1 [29900/60000 (50%)]\t0.546038\n",
            "Train Epoch: 1 [31900/60000 (53%)]\t0.349455\n",
            "Train Epoch: 1 [33900/60000 (56%)]\t0.513337\n",
            "Train Epoch: 1 [35900/60000 (60%)]\t0.246458\n",
            "Train Epoch: 1 [37900/60000 (63%)]\t0.244163\n",
            "Train Epoch: 1 [39900/60000 (66%)]\t0.320635\n",
            "Train Epoch: 1 [41900/60000 (70%)]\t0.410731\n",
            "Train Epoch: 1 [43900/60000 (73%)]\t0.459826\n",
            "Train Epoch: 1 [45900/60000 (76%)]\t0.536816\n",
            "Train Epoch: 1 [47900/60000 (80%)]\t0.303735\n",
            "Train Epoch: 1 [49900/60000 (83%)]\t0.420110\n",
            "Train Epoch: 1 [51900/60000 (86%)]\t0.385938\n",
            "Train Epoch: 1 [53900/60000 (90%)]\t0.243343\n",
            "Train Epoch: 1 [55900/60000 (93%)]\t0.240749\n",
            "Train Epoch: 1 [57900/60000 (96%)]\t0.241484\n",
            "Train Epoch: 1 [59900/60000 (100%)]\t0.373384\n",
            "\n",
            "Test set: Average loss: 0.0012, Accuracy: 9615/10000 (96%)\n",
            "\n",
            "Train Epoch: 2 [1900/60000 (3%)]\t0.185186\n",
            "Train Epoch: 2 [3900/60000 (6%)]\t0.218842\n",
            "Train Epoch: 2 [5900/60000 (10%)]\t0.197208\n",
            "Train Epoch: 2 [7900/60000 (13%)]\t0.202645\n",
            "Train Epoch: 2 [9900/60000 (16%)]\t0.342254\n",
            "Train Epoch: 2 [11900/60000 (20%)]\t0.168821\n",
            "Train Epoch: 2 [13900/60000 (23%)]\t0.223236\n",
            "Train Epoch: 2 [15900/60000 (26%)]\t0.266453\n",
            "Train Epoch: 2 [17900/60000 (30%)]\t0.224780\n",
            "Train Epoch: 2 [19900/60000 (33%)]\t0.291540\n",
            "Train Epoch: 2 [21900/60000 (36%)]\t0.381446\n",
            "Train Epoch: 2 [23900/60000 (40%)]\t0.279777\n",
            "Train Epoch: 2 [25900/60000 (43%)]\t0.247801\n",
            "Train Epoch: 2 [27900/60000 (46%)]\t0.302454\n",
            "Train Epoch: 2 [29900/60000 (50%)]\t0.331120\n",
            "Train Epoch: 2 [31900/60000 (53%)]\t0.354109\n",
            "Train Epoch: 2 [33900/60000 (56%)]\t0.152479\n",
            "Train Epoch: 2 [35900/60000 (60%)]\t0.275012\n",
            "Train Epoch: 2 [37900/60000 (63%)]\t0.287201\n",
            "Train Epoch: 2 [39900/60000 (66%)]\t0.362693\n",
            "Train Epoch: 2 [41900/60000 (70%)]\t0.224488\n",
            "Train Epoch: 2 [43900/60000 (73%)]\t0.169767\n",
            "Train Epoch: 2 [45900/60000 (76%)]\t0.290788\n",
            "Train Epoch: 2 [47900/60000 (80%)]\t0.266149\n",
            "Train Epoch: 2 [49900/60000 (83%)]\t0.188933\n",
            "Train Epoch: 2 [51900/60000 (86%)]\t0.314035\n",
            "Train Epoch: 2 [53900/60000 (90%)]\t0.117456\n",
            "Train Epoch: 2 [55900/60000 (93%)]\t0.232575\n",
            "Train Epoch: 2 [57900/60000 (96%)]\t0.272984\n",
            "Train Epoch: 2 [59900/60000 (100%)]\t0.225097\n",
            "\n",
            "Test set: Average loss: 0.0008, Accuracy: 9733/10000 (97%)\n",
            "\n",
            "Train Epoch: 3 [1900/60000 (3%)]\t0.180038\n",
            "Train Epoch: 3 [3900/60000 (6%)]\t0.150071\n",
            "Train Epoch: 3 [5900/60000 (10%)]\t0.182723\n",
            "Train Epoch: 3 [7900/60000 (13%)]\t0.195101\n",
            "Train Epoch: 3 [9900/60000 (16%)]\t0.235348\n",
            "Train Epoch: 3 [11900/60000 (20%)]\t0.218236\n",
            "Train Epoch: 3 [13900/60000 (23%)]\t0.236067\n",
            "Train Epoch: 3 [15900/60000 (26%)]\t0.148628\n",
            "Train Epoch: 3 [17900/60000 (30%)]\t0.259755\n",
            "Train Epoch: 3 [19900/60000 (33%)]\t0.245408\n",
            "Train Epoch: 3 [21900/60000 (36%)]\t0.265839\n",
            "Train Epoch: 3 [23900/60000 (40%)]\t0.144840\n",
            "Train Epoch: 3 [25900/60000 (43%)]\t0.167533\n",
            "Train Epoch: 3 [27900/60000 (46%)]\t0.333748\n",
            "Train Epoch: 3 [29900/60000 (50%)]\t0.215886\n",
            "Train Epoch: 3 [31900/60000 (53%)]\t0.144954\n",
            "Train Epoch: 3 [33900/60000 (56%)]\t0.205112\n",
            "Train Epoch: 3 [35900/60000 (60%)]\t0.210134\n",
            "Train Epoch: 3 [37900/60000 (63%)]\t0.223154\n",
            "Train Epoch: 3 [39900/60000 (66%)]\t0.122398\n",
            "Train Epoch: 3 [41900/60000 (70%)]\t0.139050\n",
            "Train Epoch: 3 [43900/60000 (73%)]\t0.276119\n",
            "Train Epoch: 3 [45900/60000 (76%)]\t0.262540\n",
            "Train Epoch: 3 [47900/60000 (80%)]\t0.287067\n",
            "Train Epoch: 3 [49900/60000 (83%)]\t0.240816\n",
            "Train Epoch: 3 [51900/60000 (86%)]\t0.299654\n",
            "Train Epoch: 3 [53900/60000 (90%)]\t0.188836\n",
            "Train Epoch: 3 [55900/60000 (93%)]\t0.177651\n",
            "Train Epoch: 3 [57900/60000 (96%)]\t0.471835\n",
            "Train Epoch: 3 [59900/60000 (100%)]\t0.345077\n",
            "\n",
            "Test set: Average loss: 0.0007, Accuracy: 9772/10000 (98%)\n",
            "\n",
            "Train Epoch: 4 [1900/60000 (3%)]\t0.193027\n",
            "Train Epoch: 4 [3900/60000 (6%)]\t0.271637\n",
            "Train Epoch: 4 [5900/60000 (10%)]\t0.329877\n",
            "Train Epoch: 4 [7900/60000 (13%)]\t0.231116\n",
            "Train Epoch: 4 [9900/60000 (16%)]\t0.103855\n",
            "Train Epoch: 4 [11900/60000 (20%)]\t0.074095\n",
            "Train Epoch: 4 [13900/60000 (23%)]\t0.203824\n",
            "Train Epoch: 4 [15900/60000 (26%)]\t0.190679\n",
            "Train Epoch: 4 [17900/60000 (30%)]\t0.100597\n",
            "Train Epoch: 4 [19900/60000 (33%)]\t0.257782\n",
            "Train Epoch: 4 [21900/60000 (36%)]\t0.125584\n",
            "Train Epoch: 4 [23900/60000 (40%)]\t0.181757\n",
            "Train Epoch: 4 [25900/60000 (43%)]\t0.158957\n",
            "Train Epoch: 4 [27900/60000 (46%)]\t0.224980\n",
            "Train Epoch: 4 [29900/60000 (50%)]\t0.195949\n",
            "Train Epoch: 4 [31900/60000 (53%)]\t0.105126\n",
            "Train Epoch: 4 [33900/60000 (56%)]\t0.123636\n",
            "Train Epoch: 4 [35900/60000 (60%)]\t0.223160\n",
            "Train Epoch: 4 [37900/60000 (63%)]\t0.196595\n",
            "Train Epoch: 4 [39900/60000 (66%)]\t0.208095\n",
            "Train Epoch: 4 [41900/60000 (70%)]\t0.220034\n",
            "Train Epoch: 4 [43900/60000 (73%)]\t0.148875\n",
            "Train Epoch: 4 [45900/60000 (76%)]\t0.295913\n",
            "Train Epoch: 4 [47900/60000 (80%)]\t0.324253\n",
            "Train Epoch: 4 [49900/60000 (83%)]\t0.165218\n",
            "Train Epoch: 4 [51900/60000 (86%)]\t0.154641\n",
            "Train Epoch: 4 [53900/60000 (90%)]\t0.351659\n",
            "Train Epoch: 4 [55900/60000 (93%)]\t0.163637\n",
            "Train Epoch: 4 [57900/60000 (96%)]\t0.184401\n",
            "Train Epoch: 4 [59900/60000 (100%)]\t0.137390\n",
            "\n",
            "Test set: Average loss: 0.0006, Accuracy: 9809/10000 (98%)\n",
            "\n",
            "Train Epoch: 5 [1900/60000 (3%)]\t0.108884\n",
            "Train Epoch: 5 [3900/60000 (6%)]\t0.116825\n",
            "Train Epoch: 5 [5900/60000 (10%)]\t0.151493\n",
            "Train Epoch: 5 [7900/60000 (13%)]\t0.247517\n",
            "Train Epoch: 5 [9900/60000 (16%)]\t0.113868\n",
            "Train Epoch: 5 [11900/60000 (20%)]\t0.195207\n",
            "Train Epoch: 5 [13900/60000 (23%)]\t0.195965\n",
            "Train Epoch: 5 [15900/60000 (26%)]\t0.178827\n",
            "Train Epoch: 5 [17900/60000 (30%)]\t0.179533\n",
            "Train Epoch: 5 [19900/60000 (33%)]\t0.215504\n",
            "Train Epoch: 5 [21900/60000 (36%)]\t0.132386\n",
            "Train Epoch: 5 [23900/60000 (40%)]\t0.209736\n",
            "Train Epoch: 5 [25900/60000 (43%)]\t0.221066\n",
            "Train Epoch: 5 [27900/60000 (46%)]\t0.134156\n",
            "Train Epoch: 5 [29900/60000 (50%)]\t0.111501\n",
            "Train Epoch: 5 [31900/60000 (53%)]\t0.073243\n",
            "Train Epoch: 5 [33900/60000 (56%)]\t0.160010\n",
            "Train Epoch: 5 [35900/60000 (60%)]\t0.272355\n",
            "Train Epoch: 5 [37900/60000 (63%)]\t0.153275\n",
            "Train Epoch: 5 [39900/60000 (66%)]\t0.124058\n",
            "Train Epoch: 5 [41900/60000 (70%)]\t0.305107\n",
            "Train Epoch: 5 [43900/60000 (73%)]\t0.169197\n",
            "Train Epoch: 5 [45900/60000 (76%)]\t0.206748\n",
            "Train Epoch: 5 [47900/60000 (80%)]\t0.213993\n",
            "Train Epoch: 5 [49900/60000 (83%)]\t0.157239\n",
            "Train Epoch: 5 [51900/60000 (86%)]\t0.150185\n",
            "Train Epoch: 5 [53900/60000 (90%)]\t0.211016\n",
            "Train Epoch: 5 [55900/60000 (93%)]\t0.089699\n",
            "Train Epoch: 5 [57900/60000 (96%)]\t0.126179\n",
            "Train Epoch: 5 [59900/60000 (100%)]\t0.040561\n",
            "\n",
            "Test set: Average loss: 0.0006, Accuracy: 9808/10000 (98%)\n",
            "\n",
            "Train Epoch: 6 [1900/60000 (3%)]\t0.151745\n",
            "Train Epoch: 6 [3900/60000 (6%)]\t0.211147\n",
            "Train Epoch: 6 [5900/60000 (10%)]\t0.207422\n",
            "Train Epoch: 6 [7900/60000 (13%)]\t0.060705\n",
            "Train Epoch: 6 [9900/60000 (16%)]\t0.145630\n",
            "Train Epoch: 6 [11900/60000 (20%)]\t0.111215\n",
            "Train Epoch: 6 [13900/60000 (23%)]\t0.145778\n",
            "Train Epoch: 6 [15900/60000 (26%)]\t0.251006\n",
            "Train Epoch: 6 [17900/60000 (30%)]\t0.097438\n",
            "Train Epoch: 6 [19900/60000 (33%)]\t0.109243\n",
            "Train Epoch: 6 [21900/60000 (36%)]\t0.061598\n",
            "Train Epoch: 6 [23900/60000 (40%)]\t0.120210\n",
            "Train Epoch: 6 [25900/60000 (43%)]\t0.068410\n",
            "Train Epoch: 6 [27900/60000 (46%)]\t0.157573\n",
            "Train Epoch: 6 [29900/60000 (50%)]\t0.226668\n",
            "Train Epoch: 6 [31900/60000 (53%)]\t0.210780\n",
            "Train Epoch: 6 [33900/60000 (56%)]\t0.132847\n",
            "Train Epoch: 6 [35900/60000 (60%)]\t0.301644\n",
            "Train Epoch: 6 [37900/60000 (63%)]\t0.123916\n",
            "Train Epoch: 6 [39900/60000 (66%)]\t0.228392\n",
            "Train Epoch: 6 [41900/60000 (70%)]\t0.149455\n",
            "Train Epoch: 6 [43900/60000 (73%)]\t0.079970\n",
            "Train Epoch: 6 [45900/60000 (76%)]\t0.132767\n",
            "Train Epoch: 6 [47900/60000 (80%)]\t0.152972\n",
            "Train Epoch: 6 [49900/60000 (83%)]\t0.122981\n",
            "Train Epoch: 6 [51900/60000 (86%)]\t0.165715\n",
            "Train Epoch: 6 [53900/60000 (90%)]\t0.156812\n",
            "Train Epoch: 6 [55900/60000 (93%)]\t0.296655\n",
            "Train Epoch: 6 [57900/60000 (96%)]\t0.109703\n",
            "Train Epoch: 6 [59900/60000 (100%)]\t0.243981\n",
            "\n",
            "Test set: Average loss: 0.0006, Accuracy: 9816/10000 (98%)\n",
            "\n",
            "Train Epoch: 7 [1900/60000 (3%)]\t0.119783\n",
            "Train Epoch: 7 [3900/60000 (6%)]\t0.120370\n",
            "Train Epoch: 7 [5900/60000 (10%)]\t0.129127\n",
            "Train Epoch: 7 [7900/60000 (13%)]\t0.156501\n",
            "Train Epoch: 7 [9900/60000 (16%)]\t0.329941\n",
            "Train Epoch: 7 [11900/60000 (20%)]\t0.122345\n",
            "Train Epoch: 7 [13900/60000 (23%)]\t0.124825\n",
            "Train Epoch: 7 [15900/60000 (26%)]\t0.260697\n",
            "Train Epoch: 7 [17900/60000 (30%)]\t0.118711\n",
            "Train Epoch: 7 [19900/60000 (33%)]\t0.155576\n",
            "Train Epoch: 7 [21900/60000 (36%)]\t0.220305\n",
            "Train Epoch: 7 [23900/60000 (40%)]\t0.144578\n",
            "Train Epoch: 7 [25900/60000 (43%)]\t0.073548\n",
            "Train Epoch: 7 [27900/60000 (46%)]\t0.151273\n",
            "Train Epoch: 7 [29900/60000 (50%)]\t0.158142\n",
            "Train Epoch: 7 [31900/60000 (53%)]\t0.334050\n",
            "Train Epoch: 7 [33900/60000 (56%)]\t0.209714\n",
            "Train Epoch: 7 [35900/60000 (60%)]\t0.128203\n",
            "Train Epoch: 7 [37900/60000 (63%)]\t0.144378\n",
            "Train Epoch: 7 [39900/60000 (66%)]\t0.256534\n",
            "Train Epoch: 7 [41900/60000 (70%)]\t0.086862\n",
            "Train Epoch: 7 [43900/60000 (73%)]\t0.204930\n",
            "Train Epoch: 7 [45900/60000 (76%)]\t0.101805\n",
            "Train Epoch: 7 [47900/60000 (80%)]\t0.139207\n",
            "Train Epoch: 7 [49900/60000 (83%)]\t0.307645\n",
            "Train Epoch: 7 [51900/60000 (86%)]\t0.137992\n",
            "Train Epoch: 7 [53900/60000 (90%)]\t0.166998\n",
            "Train Epoch: 7 [55900/60000 (93%)]\t0.159916\n",
            "Train Epoch: 7 [57900/60000 (96%)]\t0.177399\n",
            "Train Epoch: 7 [59900/60000 (100%)]\t0.238841\n",
            "\n",
            "Test set: Average loss: 0.0005, Accuracy: 9840/10000 (98%)\n",
            "\n",
            "Train Epoch: 8 [1900/60000 (3%)]\t0.115083\n",
            "Train Epoch: 8 [3900/60000 (6%)]\t0.147262\n",
            "Train Epoch: 8 [5900/60000 (10%)]\t0.106263\n",
            "Train Epoch: 8 [7900/60000 (13%)]\t0.129920\n",
            "Train Epoch: 8 [9900/60000 (16%)]\t0.132613\n",
            "Train Epoch: 8 [11900/60000 (20%)]\t0.260190\n",
            "Train Epoch: 8 [13900/60000 (23%)]\t0.185565\n",
            "Train Epoch: 8 [15900/60000 (26%)]\t0.153932\n",
            "Train Epoch: 8 [17900/60000 (30%)]\t0.150133\n",
            "Train Epoch: 8 [19900/60000 (33%)]\t0.145146\n",
            "Train Epoch: 8 [21900/60000 (36%)]\t0.172766\n",
            "Train Epoch: 8 [23900/60000 (40%)]\t0.081500\n",
            "Train Epoch: 8 [25900/60000 (43%)]\t0.254805\n",
            "Train Epoch: 8 [27900/60000 (46%)]\t0.153661\n",
            "Train Epoch: 8 [29900/60000 (50%)]\t0.127997\n",
            "Train Epoch: 8 [31900/60000 (53%)]\t0.133041\n",
            "Train Epoch: 8 [33900/60000 (56%)]\t0.157378\n",
            "Train Epoch: 8 [35900/60000 (60%)]\t0.109412\n",
            "Train Epoch: 8 [37900/60000 (63%)]\t0.079455\n",
            "Train Epoch: 8 [39900/60000 (66%)]\t0.184068\n",
            "Train Epoch: 8 [41900/60000 (70%)]\t0.083851\n",
            "Train Epoch: 8 [43900/60000 (73%)]\t0.152134\n",
            "Train Epoch: 8 [45900/60000 (76%)]\t0.144745\n",
            "Train Epoch: 8 [47900/60000 (80%)]\t0.435562\n",
            "Train Epoch: 8 [49900/60000 (83%)]\t0.097717\n",
            "Train Epoch: 8 [51900/60000 (86%)]\t0.256559\n",
            "Train Epoch: 8 [53900/60000 (90%)]\t0.108833\n",
            "Train Epoch: 8 [55900/60000 (93%)]\t0.078298\n",
            "Train Epoch: 8 [57900/60000 (96%)]\t0.118226\n",
            "Train Epoch: 8 [59900/60000 (100%)]\t0.127267\n",
            "\n",
            "Test set: Average loss: 0.0005, Accuracy: 9843/10000 (98%)\n",
            "\n",
            "Train Epoch: 9 [1900/60000 (3%)]\t0.098512\n",
            "Train Epoch: 9 [3900/60000 (6%)]\t0.040883\n",
            "Train Epoch: 9 [5900/60000 (10%)]\t0.229431\n",
            "Train Epoch: 9 [7900/60000 (13%)]\t0.121520\n",
            "Train Epoch: 9 [9900/60000 (16%)]\t0.115984\n",
            "Train Epoch: 9 [11900/60000 (20%)]\t0.170773\n",
            "Train Epoch: 9 [13900/60000 (23%)]\t0.074204\n",
            "Train Epoch: 9 [15900/60000 (26%)]\t0.080145\n",
            "Train Epoch: 9 [17900/60000 (30%)]\t0.199266\n",
            "Train Epoch: 9 [19900/60000 (33%)]\t0.118527\n",
            "Train Epoch: 9 [21900/60000 (36%)]\t0.203618\n",
            "Train Epoch: 9 [23900/60000 (40%)]\t0.142661\n",
            "Train Epoch: 9 [25900/60000 (43%)]\t0.094853\n",
            "Train Epoch: 9 [27900/60000 (46%)]\t0.144310\n",
            "Train Epoch: 9 [29900/60000 (50%)]\t0.098350\n",
            "Train Epoch: 9 [31900/60000 (53%)]\t0.105045\n",
            "Train Epoch: 9 [33900/60000 (56%)]\t0.074414\n",
            "Train Epoch: 9 [35900/60000 (60%)]\t0.063143\n",
            "Train Epoch: 9 [37900/60000 (63%)]\t0.185539\n",
            "Train Epoch: 9 [39900/60000 (66%)]\t0.163756\n",
            "Train Epoch: 9 [41900/60000 (70%)]\t0.220471\n",
            "Train Epoch: 9 [43900/60000 (73%)]\t0.094781\n",
            "Train Epoch: 9 [45900/60000 (76%)]\t0.080946\n",
            "Train Epoch: 9 [47900/60000 (80%)]\t0.072042\n",
            "Train Epoch: 9 [49900/60000 (83%)]\t0.189719\n",
            "Train Epoch: 9 [51900/60000 (86%)]\t0.135024\n",
            "Train Epoch: 9 [53900/60000 (90%)]\t0.143651\n",
            "Train Epoch: 9 [55900/60000 (93%)]\t0.150368\n",
            "Train Epoch: 9 [57900/60000 (96%)]\t0.278073\n",
            "Train Epoch: 9 [59900/60000 (100%)]\t0.246641\n",
            "\n",
            "Test set: Average loss: 0.0005, Accuracy: 9846/10000 (98%)\n",
            "\n"
          ]
        }
      ]
    },
    {
      "cell_type": "code",
      "source": [
        "import matplotlib.pyplot as plt\n",
        "model.eval()\n",
        "\n",
        "data,target= test_data[0]\n",
        "data = data.unsqueeze(0).to(device)\n",
        "output = model(data)\n",
        "pred = output.argmax(dim=1, keepdim=True).item()\n",
        "\n",
        "print(f'Prediction: {pred}')\n",
        "# Changed 'sequeeze' to 'squeeze'\n",
        "image=data.squeeze(0).squeeze(0).numpy()\n",
        "plt.imshow(image,cmap='gray')\n",
        "plt.show()"
      ],
      "metadata": {
        "colab": {
          "base_uri": "https://localhost:8080/",
          "height": 502
        },
        "id": "CzzERFuBS0Ti",
        "outputId": "69c0cb7f-1577-4217-87da-6a85bb16a6d7"
      },
      "execution_count": 25,
      "outputs": [
        {
          "output_type": "stream",
          "name": "stderr",
          "text": [
            "<ipython-input-19-0ebfdabe8b05>:28: UserWarning: Implicit dimension choice for log_softmax has been deprecated. Change the call to include dim=X as an argument.\n",
            "  return F.log_softmax(x)\n"
          ]
        },
        {
          "output_type": "stream",
          "name": "stdout",
          "text": [
            "Prediction: 7\n"
          ]
        },
        {
          "output_type": "display_data",
          "data": {
            "text/plain": [
              "<Figure size 640x480 with 1 Axes>"
            ],
            "image/png": "[encoded data removed]"
          },
          "metadata": {}
        }
      ]
    },
    {
      "cell_type": "code",
      "source": [
        "print(model.pred(test_data))"
      ],
      "metadata": {
        "colab": {
          "base_uri": "https://localhost:8080/",
          "height": 280
        },
        "id": "vjY5uLlXTERj",
        "outputId": "e9efa6d6-677d-4f19-841c-a73e1c3e4c4e"
      },
      "execution_count": 28,
      "outputs": [
        {
          "output_type": "error",
          "ename": "AttributeError",
          "evalue": "'CNN' object has no attribute 'pred'",
          "traceback": [
            "\u001b[0;31m---------------------------------------------------------------------------\u001b[0m",
            "\u001b[0;31mAttributeError\u001b[0m                            Traceback (most recent call last)",
            "\u001b[0;32m<ipython-input-28-0f4b917661e3>\u001b[0m in \u001b[0;36m<cell line: 1>\u001b[0;34m()\u001b[0m\n\u001b[0;32m----> 1\u001b[0;31m \u001b[0mprint\u001b[0m\u001b[0;34m(\u001b[0m\u001b[0mmodel\u001b[0m\u001b[0;34m.\u001b[0m\u001b[0mpred\u001b[0m\u001b[0;34m(\u001b[0m\u001b[0mtest_data\u001b[0m\u001b[0;34m)\u001b[0m\u001b[0;34m)\u001b[0m\u001b[0;34m\u001b[0m\u001b[0;34m\u001b[0m\u001b[0m\n\u001b[0m",
            "\u001b[0;32m/usr/local/lib/python3.10/dist-packages/torch/nn/modules/module.py\u001b[0m in \u001b[0;36m__getattr__\u001b[0;34m(self, name)\u001b[0m\n\u001b[1;32m   1929\u001b[0m             \u001b[0;32mif\u001b[0m \u001b[0mname\u001b[0m \u001b[0;32min\u001b[0m \u001b[0mmodules\u001b[0m\u001b[0;34m:\u001b[0m\u001b[0;34m\u001b[0m\u001b[0;34m\u001b[0m\u001b[0m\n\u001b[1;32m   1930\u001b[0m                 \u001b[0;32mreturn\u001b[0m \u001b[0mmodules\u001b[0m\u001b[0;34m[\u001b[0m\u001b[0mname\u001b[0m\u001b[0;34m]\u001b[0m\u001b[0;34m\u001b[0m\u001b[0;34m\u001b[0m\u001b[0m\n\u001b[0;32m-> 1931\u001b[0;31m         raise AttributeError(\n\u001b[0m\u001b[1;32m   1932\u001b[0m             \u001b[0;34mf\"'{type(self).__name__}' object has no attribute '{name}'\"\u001b[0m\u001b[0;34m\u001b[0m\u001b[0;34m\u001b[0m\u001b[0m\n\u001b[1;32m   1933\u001b[0m         )\n",
            "\u001b[0;31mAttributeError\u001b[0m: 'CNN' object has no attribute 'pred'"
          ]
        }
      ]
    }
  ]
}